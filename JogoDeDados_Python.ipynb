{
  "nbformat": 4,
  "nbformat_minor": 0,
  "metadata": {
    "colab": {
      "name": "JogoDeDados_Python.ipynb",
      "provenance": [],
      "collapsed_sections": [],
      "authorship_tag": "ABX9TyOcr92IGVHk1FVHYhaszI7V",
      "include_colab_link": true
    },
    "kernelspec": {
      "name": "python3",
      "display_name": "Python 3"
    },
    "language_info": {
      "name": "python"
    }
  },
  "cells": [
    {
      "cell_type": "markdown",
      "metadata": {
        "id": "view-in-github",
        "colab_type": "text"
      },
      "source": [
        "<a href=\"https://colab.research.google.com/github/Leopcampos/JogoDeDados_Python/blob/main/JogoDeDados_Python.ipynb\" target=\"_parent\"><img src=\"https://colab.research.google.com/assets/colab-badge.svg\" alt=\"Open In Colab\"/></a>"
      ]
    },
    {
      "cell_type": "code",
      "metadata": {
        "id": "JYCXLVK71lvs"
      },
      "source": [
        "# Jogo de Dados\n",
        "# Escolho o valor entre 1 e 6\n",
        "# Escolho o quanto quero apostar Máximo 100 (Valor q eu tenho no bolso)\n",
        "# Jogo 2 dados\n",
        "# Se 1 dado igual, ganho 2 vezes o valor apostado\n",
        "# Se 2 dados derem iguais, ganho 10 vezes o valor apostado\n",
        "# Se não der nenhum dado igual, perco meu dinheiro\n",
        "from random import randrange\n",
        "bolso = 100\n",
        "numero_apostado = int(input(\"Qual número você aposta? \"))\n",
        "valor_aposta = float(input(\"Qual o valor da aposta? \"))\n",
        "if valor_aposta > bolso:\n",
        "  print (\"Você não tem esse dinheiro\")\n",
        "else:    \n",
        "  bolso = bolso - valor_aposta\n",
        "  dado1 = randrange(1,6)\n",
        "  dado2 = randrange(1,6)\n",
        "  mensagem_ganho = \"você ganhou {} e agora está com {}\"\n",
        "  print(\"Sorteados os dados {} e {}\".format(dado1, dado2 ))\n",
        "  resultado = 0\n",
        "  if (dado1==numero_apostado)and(dado==numero_apostado):\n",
        "    resultado = valor_aposta * 10\n",
        "    bolso = resultado + bolso\n",
        "    print(mensagem_ganho.format(resultado, bolso))\n",
        "  elif (dado1==numero_apostado)or(dado2==numero_apostado):\n",
        "    resultado = valor_aposta * 2\n",
        "    bolso = resultado + bolso\n",
        "    print(mensagem_ganho.format(resultado, bolso))\n",
        "  else:\n",
        "    print(\"Você errou. Agora tem no bolso {}\".format(bolso))  "
      ],
      "execution_count": null,
      "outputs": []
    }
  ]
}